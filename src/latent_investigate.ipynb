{
 "cells": [
  {
   "cell_type": "code",
   "execution_count": 6,
   "id": "1071e05b",
   "metadata": {},
   "outputs": [],
   "source": [
    "import torch\n",
    "from sklearn.decomposition import PCA\n",
    "import matplotlib.pyplot as plt\n",
    "from ae import UNetAutoencoder\n",
    "from torch.utils.data import DataLoader"
   ]
  },
  {
   "cell_type": "code",
   "execution_count": null,
   "id": "6f75debb",
   "metadata": {},
   "outputs": [],
   "source": [
    "# Initialize the UNetAutoencoder\n",
    "device = torch.device(\"cuda\" if torch.cuda.is_available() else \"cpu\")\n",
    "model = UNetAutoencoder(base_ch=256, skip_connections=False).to(device)\n",
    "\n",
    "# Load the checkpoint\n",
    "checkpoint_path = \"path\"\n",
    "checkpoint = torch.load(checkpoint_path, map_location=device)\n",
    "model.load_state_dict(checkpoint['model_state_dict'])\n",
    "model.eval()\n",
    "\n",
    "\n",
    "# Extract config from checkpoint\n",
    "config = checkpoint['config']\n",
    "\n",
    "\n",
    "# Load a batch of images (replace with your dataset loader)\n",
    "# Example: images = next(iter(dataloader))\n",
    "dataloader = DataLoader(config.dataset, batch_size=config.batch_size, shuffle=False, num_workers=config.data_workers)\n",
    "im, idx = next(iter(dataloader))\n",
    "images = im.to(device)\n"
   ]
  },
  {
   "cell_type": "code",
   "execution_count": null,
   "id": "c31c31df",
   "metadata": {},
   "outputs": [],
   "source": [
    "\n",
    "# Extract latent representations\n",
    "with torch.no_grad():\n",
    "    latents, _ = model.encode(images)\n",
    "\n",
    "# Flatten the latent space for PCA\n",
    "latents_flat = latents.view(latents.size(0), -1).cpu().numpy()\n",
    "\n",
    "# Perform PCA\n",
    "pca = PCA(n_components=2)\n",
    "latents_pca = pca.fit_transform(latents_flat)\n",
    "\n",
    "# Visualize the PCA results\n",
    "plt.scatter(latents_pca[:, 0], latents_pca[:, 1])\n",
    "plt.title(\"PCA of Latent Space\")\n",
    "plt.xlabel(\"Principal Component 1\")\n",
    "plt.ylabel(\"Principal Component 2\")\n",
    "plt.show()\n",
    "\n",
    "# Reconstruct images from the latent space\n",
    "with torch.no_grad():\n",
    "    reconstructed_images = model.decode(latents)\n",
    "\n",
    "# Visualize original and reconstructed images\n",
    "fig, axes = plt.subplots(2, len(images), figsize=(15, 5))\n",
    "for i in range(len(images)):\n",
    "    axes[0, i].imshow(images[i].squeeze().cpu().numpy(), cmap=\"gray\")\n",
    "    axes[0, i].set_title(\"Original\")\n",
    "    axes[0, i].axis(\"off\")\n",
    "    \n",
    "    axes[1, i].imshow(reconstructed_images[i].squeeze().cpu().numpy(), cmap=\"gray\")\n",
    "    axes[1, i].set_title(\"Reconstructed\")\n",
    "    axes[1, i].axis(\"off\")\n",
    "plt.tight_layout()\n",
    "plt.show()"
   ]
  }
 ],
 "metadata": {
  "kernelspec": {
   "display_name": ".venv",
   "language": "python",
   "name": "python3"
  },
  "language_info": {
   "codemirror_mode": {
    "name": "ipython",
    "version": 3
   },
   "file_extension": ".py",
   "mimetype": "text/x-python",
   "name": "python",
   "nbconvert_exporter": "python",
   "pygments_lexer": "ipython3",
   "version": "3.9.12"
  }
 },
 "nbformat": 4,
 "nbformat_minor": 5
}
