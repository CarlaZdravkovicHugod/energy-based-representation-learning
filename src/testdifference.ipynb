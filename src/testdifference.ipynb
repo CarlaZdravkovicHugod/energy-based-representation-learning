{
 "cells": [
  {
   "cell_type": "code",
   "execution_count": 25,
   "metadata": {},
   "outputs": [],
   "source": [
    "import sys\n",
    "sys.path.append('..')\n",
    "\n",
    "from src.dataloader import MRI2D, Clevr\n",
    "from src.config.load_config import load_config\n",
    "import numpy as np\n",
    "import torch.nn\n",
    "import matplotlib.pyplot as plt\n",
    "import seaborn as sns\n",
    "import glob\n",
    "import pandas as pd"
   ]
  },
  {
   "cell_type": "code",
   "execution_count": 37,
   "metadata": {},
   "outputs": [
    {
     "name": "stderr",
     "output_type": "stream",
     "text": [
      "[neptune] [warning] NeptuneWarning: By default, these monitoring options are disabled in interactive sessions: 'capture_stdout', 'capture_stderr', 'capture_traceback', 'capture_hardware_metrics'. You can set them to 'True' when initializing the run and the monitoring will continue until you call run.stop() or the kernel stops. NOTE: To track the source files, pass their paths to the 'source_code' argument. For help, see: https://docs.neptune.ai/logging/source_code/\n"
     ]
    },
    {
     "name": "stdout",
     "output_type": "stream",
     "text": [
      "[neptune] [info   ] Neptune initialized. Open in the app: https://app.neptune.ai/unsupervised-learning-of-energy-representations/unsupervised-learning-of-energy-representations/e/UN-208\n"
     ]
    }
   ],
   "source": [
    "d = MRI2D('src/config/2DMRI_config.yml')\n",
    "\n",
    "config = load_config('/Users/carlahugod/Desktop/UNI/6sem/bach/energy-based-representation-learning/src/config/clevr_config.yml') \n",
    "\n",
    "d2 = Clevr(config)"
   ]
  },
  {
   "cell_type": "code",
   "execution_count": 29,
   "metadata": {},
   "outputs": [],
   "source": [
    "pth = '/Users/carlahugod/Desktop/UNI/6sem/bach/energy-based-representation-learning/data/*.npy'\n",
    "\n",
    "# Load all the files from the path into a list\n",
    "files = np.array(glob.glob(pth))\n",
    "\n",
    "# Load all the files into a list\n",
    "data = [np.load(f) for f in files]\n",
    "\n",
    "\n",
    "# convert the list of arrays into pandas dataframe\n",
    "\n",
    "\n"
   ]
  },
  {
   "cell_type": "code",
   "execution_count": 33,
   "metadata": {},
   "outputs": [
    {
     "data": {
      "text/plain": [
       "array([[  0.     ,   0.     ,   0.     , ..., 145.38525, 116.86256,\n",
       "        122.92365],\n",
       "       [  0.     ,   0.     ,   0.     , ..., 151.679  , 149.50995,\n",
       "        106.44664],\n",
       "       [  0.     ,   0.     ,   0.     , ..., 141.6703 , 147.71361,\n",
       "        136.41548],\n",
       "       ...,\n",
       "       [  0.     ,   0.     ,   0.     , ...,   0.     ,   0.     ,\n",
       "          0.     ],\n",
       "       [  0.     ,   0.     ,   0.     , ...,   0.     ,   0.     ,\n",
       "          0.     ],\n",
       "       [  0.     ,   0.     ,   0.     , ...,   0.     ,   0.     ,\n",
       "          0.     ]], dtype=float32)"
      ]
     },
     "execution_count": 33,
     "metadata": {},
     "output_type": "execute_result"
    }
   ],
   "source": [
    "data[20]"
   ]
  },
  {
   "cell_type": "code",
   "execution_count": 24,
   "metadata": {},
   "outputs": [
    {
     "data": {
      "text/plain": [
       "<Axes: ylabel='Count'>"
      ]
     },
     "execution_count": 24,
     "metadata": {},
     "output_type": "execute_result"
    },
    {
     "data": {
      "image/png": "[encoded data removed]",
      "text/plain": [
       "<Figure size 640x480 with 1 Axes>"
      ]
     },
     "metadata": {},
     "output_type": "display_data"
    }
   ],
   "source": [
    "sns.histplot(data[0].flatten())"
   ]
  },
  {
   "cell_type": "code",
   "execution_count": 23,
   "metadata": {},
   "outputs": [
    {
     "data": {
      "text/plain": [
       "<Axes: ylabel='Count'>"
      ]
     },
     "execution_count": 23,
     "metadata": {},
     "output_type": "execute_result"
    },
    {
     "data": {
      "image/png": "[encoded data removed]",
      "text/plain": [
       "<Figure size 640x480 with 1 Axes>"
      ]
     },
     "metadata": {},
     "output_type": "display_data"
    }
   ],
   "source": [
    "sns.histplot(torch.nn.functional.normalize(torch.tensor(data[0].flatten().astype(float).reshape(1, -1)), p=2, dim=1).flatten())\n"
   ]
  },
  {
   "cell_type": "code",
   "execution_count": 35,
   "metadata": {},
   "outputs": [],
   "source": [
    "import numpy as np\n",
    "\n",
    "# Load your MRI scan (example from data[20])\n",
    "img = data[20]\n",
    "\n",
    "def normalize(img):\n",
    "    # Get nonzero values\n",
    "    nonzero_mask = img > 0  # Boolean mask for nonzero elements\n",
    "\n",
    "    # Normalize only nonzero values to range [0, 1]\n",
    "    img_min = np.min(img[nonzero_mask])  # Min of nonzero values\n",
    "    img_max = np.max(img[nonzero_mask])  # Max of nonzero values\n",
    "    img_norm = np.zeros_like(img)  # Keep zeros as they are\n",
    "    img_norm[nonzero_mask] = (img[nonzero_mask] - img_min) / (img_max - img_min)\n",
    "\n",
    "    return img_norm\n",
    "\n",
    "for i in range(len(data)):\n",
    "    data[i] = normalize(data[i])\n",
    "    \n",
    "\n"
   ]
  },
  {
   "cell_type": "code",
   "execution_count": 45,
   "metadata": {},
   "outputs": [
    {
     "data": {
      "text/plain": [
       "torch.Size([3, 64, 64])"
      ]
     },
     "execution_count": 45,
     "metadata": {},
     "output_type": "execute_result"
    }
   ],
   "source": [
    "d.__getitem__(20)[0].shape"
   ]
  },
  {
   "cell_type": "code",
   "execution_count": null,
   "metadata": {},
   "outputs": [],
   "source": []
  }
 ],
 "metadata": {
  "kernelspec": {
   "display_name": ".venv",
   "language": "python",
   "name": "python3"
  },
  "language_info": {
   "codemirror_mode": {
    "name": "ipython",
    "version": 3
   },
   "file_extension": ".py",
   "mimetype": "text/x-python",
   "name": "python",
   "nbconvert_exporter": "python",
   "pygments_lexer": "ipython3",
   "version": "3.9.12"
  }
 },
 "nbformat": 4,
 "nbformat_minor": 2
}
